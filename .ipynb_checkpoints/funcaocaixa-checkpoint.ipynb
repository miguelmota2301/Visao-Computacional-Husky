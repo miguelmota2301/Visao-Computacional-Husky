{
 "cells": [
  {
   "cell_type": "code",
   "execution_count": 16,
   "id": "3673bbb2-3d3a-47af-a2ff-90bd773c8f7a",
   "metadata": {},
   "outputs": [],
   "source": [
    "import cv2 as cv\n",
    "import numpy as np\n",
    "import matplotlib.pyplot as plt\n",
    "import sys\n",
    "from sklearn.cluster import KMeans"
   ]
  },
  {
   "cell_type": "code",
   "execution_count": 18,
   "id": "4fc7f73b-7dc1-48f8-815f-1511f3d7094b",
   "metadata": {},
   "outputs": [],
   "source": [
    "def chromacity(frame):\n",
    "    frame = frame.astype(np.double)\n",
    "    frame = frame / 255.\n",
    "    frame_channels = cv.split(frame)\n",
    "    gray = frame_channels[0] + frame_channels[1] + frame_channels[2] + 10**(-6)\n",
    "    r = frame_channels[2] / gray\n",
    "    g = frame_channels[1] / gray\n",
    "    b = frame_channels[0] / gray\n",
    "    return r, g"
   ]
  },
  {
   "cell_type": "code",
   "execution_count": 20,
   "id": "aca4c0f6-96ef-4a76-9678-356545949f14",
   "metadata": {},
   "outputs": [],
   "source": [
    "def red_cluster(frame, prev_red_cluster = None, k = 3):\n",
    "    r, g = chromacity(frame)\n",
    "    data = np.column_stack((r.ravel(), g.ravel()))\n",
    "    kmean = KMeans(n_clusters = k, random_state = 42, n_init = 'auto')\n",
    "    kmean.fit(data)\n",
    "\n",
    "    centers = kmean.cluster_centers_\n",
    "    labels = kmean.labels_\n",
    "    labels_image = labels.reshape(frame.shape[:2])\n",
    "\n",
    "    expected_red = [0.6, 0.3]\n",
    "    distances = np.linalg.norm(x = (centers-expected_red), axis = 1)\n",
    "    red_idx = np.argmin(distances)\n",
    "\n",
    "    if prev_red_cluster is not None:\n",
    "        distances = np.linalg.norm(x = (centers-prev_red_cluster), axis = 1)\n",
    "        red_idx = np.argmin(distances)\n",
    "\n",
    "    red_mask = (labels_image == red_idx).astype(np.uint8) * 255\n",
    "    return red_mask, centers[red_idx]"
   ]
  },
  {
   "cell_type": "code",
   "execution_count": 28,
   "id": "5cd02da1-eead-44f2-b265-b5118228c8d6",
   "metadata": {},
   "outputs": [],
   "source": [
    "def countours(bin_img, prev_cXcY = None):\n",
    "    M = []\n",
    "    areas = []\n",
    "    cXs = []\n",
    "    cYs = []\n",
    "\n",
    "    contours, hierarchy = cv.findContours(bin_img, cv.RETR_TREE, cv.CHAIN_APPROX_SIMPLE)\n",
    "    for c in contours:\n",
    "        if cv.contourArea(c) > 0:\n",
    "            m = cv.moments(c)\n",
    "            M.append(m)\n",
    "            \n",
    "            area = cv.contourArea(c)\n",
    "            areas.append(area)\n",
    "            \n",
    "            if (area > 700) & (area < 9000):\n",
    "                cX = int(m['m10']/m['m00'])\n",
    "                cXs.append(cX)\n",
    "                \n",
    "                cY = int(m['m01']/m['m00'])\n",
    "                cYs.append(cY)\n",
    "\n",
    "    if len(cXs) > 1:\n",
    "        if prev_cXcY is not None:\n",
    "            for i in range(len(cXs)-1):\n",
    "                prevcenter = np.array([cXs[i], cYs[i]])\n",
    "                actualcenter = np.array([cXs[i+1], cYs[i+1]])\n",
    "                distance_actualprev = np.linalg.norm(x = (prevcenter - actualcenter))\n",
    "                if distance_actualprev < 100:\n",
    "                    cX = int((cXs[i]+cXs[i+1])/2)\n",
    "                    cY = int((cYs[i]+cYs[i+1])/2)\n",
    "                    center = np.array([cX, cY])\n",
    "                    distance = np.linalg.norm(x = (center - prev_cXcY))\n",
    "                    if distance < 50:\n",
    "                        return cX, cY\n",
    "        else:\n",
    "            for i in range(len(cXs)-1):\n",
    "                prevcenter = np.array([cXs[i], cYs[i]])\n",
    "                actualcenter = np.array([cXs[i+1], cYs[i+1]])\n",
    "                distance = np.linalg.norm(x = (prevcenter - actualcenter))\n",
    "                if distance < 100:\n",
    "                    cX = int((cXs[i]+cXs[i+1])/2)\n",
    "                    cY = int((cYs[i]+cYs[i+1])/2)\n",
    "                    return cX, cY\n",
    "\n",
    "    elif len(cXs) == 1:\n",
    "        return cXs[0], cYs[0]\n",
    "\n",
    "    return None"
   ]
  },
  {
   "cell_type": "code",
   "execution_count": 30,
   "id": "c984f577-9e84-41d1-a0d2-68c7f5f77842",
   "metadata": {},
   "outputs": [],
   "source": [
    "def caixa(video):\n",
    "    video = cv.VideoCapture(video)\n",
    "    prev_red_cluster = None\n",
    "    prev_cXcY = None\n",
    "    while video.isOpened():\n",
    "        ret, frame = video.read()\n",
    "    \n",
    "        if not ret:\n",
    "            print(\"Can't receive frame (stream end?). Exiting ...\")\n",
    "            break\n",
    "\n",
    "        bin_img, prev_red_cluster = red_cluster(frame = frame, prev_red_cluster = prev_red_cluster, k = 3)\n",
    "        coords = countours(bin_img = bin_img, prev_cXcY = prev_cXcY)\n",
    "        if coords is not None:\n",
    "            cX, cY = coords\n",
    "            prev_cXcY = np.array([cX, cY])\n",
    "            cv.circle(img = bin_img, center = (cX, cY), radius = 5, color = (128, 128, 128), thickness = -1)\n",
    "    \n",
    "        cv.imshow('frame', bin_img)\n",
    "        if cv.waitKey(5) == ord('q'):\n",
    "            break\n",
    "\n",
    "    video.release()\n",
    "    cv.destroyAllWindows()"
   ]
  },
  {
   "cell_type": "code",
   "execution_count": 32,
   "id": "6638a695-c4c9-4493-9e35-cd6e8a1dff07",
   "metadata": {
    "scrolled": true
   },
   "outputs": [],
   "source": [
    "caixa(\"Video1_husky.mp4\")"
   ]
  },
  {
   "cell_type": "code",
   "execution_count": null,
   "id": "551b9039-8940-42f1-afa2-b9eb92ac3ed3",
   "metadata": {},
   "outputs": [],
   "source": []
  }
 ],
 "metadata": {
  "kernelspec": {
   "display_name": "Python [conda env:base] *",
   "language": "python",
   "name": "conda-base-py"
  },
  "language_info": {
   "codemirror_mode": {
    "name": "ipython",
    "version": 3
   },
   "file_extension": ".py",
   "mimetype": "text/x-python",
   "name": "python",
   "nbconvert_exporter": "python",
   "pygments_lexer": "ipython3",
   "version": "3.11.5"
  }
 },
 "nbformat": 4,
 "nbformat_minor": 5
}
